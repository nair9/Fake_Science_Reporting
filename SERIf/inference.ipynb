{
 "cells": [
  {
   "cell_type": "code",
   "execution_count": 1,
   "id": "81442b97-0ff6-47d4-b379-e145c3b98048",
   "metadata": {},
   "outputs": [],
   "source": [
    "import os\n",
    "import ast\n",
    "import openai\n",
    "import time\n",
    "import json"
   ]
  },
  {
   "cell_type": "code",
   "execution_count": 1,
   "id": "d1e1b54c-c3ec-4c31-be39-f4ae79e69fbb",
   "metadata": {},
   "outputs": [],
   "source": [
    "# openai.organization = \"\"  #My OpenAI account\n",
    "# openai.api_key = \"\" #My Key\n",
    "# openai.Model.list()"
   ]
  },
  {
   "cell_type": "code",
   "execution_count": 15,
   "id": "71787e35-a581-4645-ac70-201bc9520dd8",
   "metadata": {},
   "outputs": [
    {
     "name": "stdout",
     "output_type": "stream",
     "text": [
      "600\n"
     ]
    }
   ],
   "source": [
    "with open('sentence_selection/selected_sentence_human2.json', 'r') as f:\n",
    "    data = json.load(f)\n",
    "print(len(data))"
   ]
  },
  {
   "cell_type": "code",
   "execution_count": 16,
   "id": "9d2969c9-67d7-404c-a184-187338ff4dd1",
   "metadata": {},
   "outputs": [],
   "source": [
    "# Call GPT3.5 Model \n",
    "def get_completion_from_messages(messages, \n",
    "                                 model=\"gpt-3.5-turbo-16k\", \n",
    "                                 temperature=0, \n",
    "                                 max_tokens=1024):\n",
    "    try:\n",
    "        response = openai.ChatCompletion.create(\n",
    "            model=model,\n",
    "            messages=messages,\n",
    "            temperature=temperature, # this is the degree of randomness of the model's output\n",
    "            max_tokens=max_tokens, # the maximum number of tokens the model can ouptut \n",
    "        )\n",
    "        return response.choices[0].message[\"content\"]\n",
    "    except openai.error.RateLimitError:\n",
    "        return None"
   ]
  },
  {
   "cell_type": "code",
   "execution_count": 17,
   "id": "64c44470-8b8b-4974-adb4-4b4c7c156124",
   "metadata": {},
   "outputs": [],
   "source": [
    "def retry_with_exponential_backoff(input_text, max_retries=5):\n",
    "    retry_count = 0\n",
    "    wait_time = 1  # initial wait time in seconds\n",
    "\n",
    "    while retry_count < max_retries:\n",
    "        response = get_completion_from_messages(input_text)\n",
    "        if response is not None:\n",
    "            return response\n",
    "\n",
    "        time.sleep(wait_time)\n",
    "        wait_time *= 2  # double the wait time for next retry\n",
    "        retry_count += 1\n",
    "\n",
    "    raise Exception(\"Max retries reached\")"
   ]
  },
  {
   "cell_type": "code",
   "execution_count": 18,
   "id": "e8ba4059-a60d-45f8-ada0-74dd2f7629cc",
   "metadata": {},
   "outputs": [],
   "source": [
    "delimiter_1 = \"#\"\n",
    "delimiter_2 = \"##\"\n",
    "\n",
    "system_message = f\"\"\"\n",
    "You are a Fact Checker.\\\n",
    "The user will give you a news paragraph and several evidence sentences.\\\n",
    "The evidence sentence may contain information that supports or refutes the news paragraph’s central claim. \\\n",
    "Determine whether the news story is factual or not based on the evidence sentences.\\ \n",
    "Pick phrases or sentences from both the news story and the evidence to support your conclusion.\\\n",
    "The user will put the news paragraph behind {delimiter_1} and the relevant sentence behind {delimiter_2}. \n",
    "\"\"\"\n"
   ]
  },
  {
   "cell_type": "code",
   "execution_count": 54,
   "id": "aa9cc357-5e1e-4cdc-b47d-201f38056551",
   "metadata": {},
   "outputs": [],
   "source": [
    "i = 590"
   ]
  },
  {
   "cell_type": "code",
   "execution_count": 55,
   "id": "d655af5c-156a-46b5-bf41-0bf52bf3bd3e",
   "metadata": {},
   "outputs": [
    {
     "name": "stdout",
     "output_type": "stream",
     "text": [
      "Predicting 590\n",
      "{\"prediction\": \"refute\", \"reason\": \"The evidence sentences provide information about rare blood clots with low platelets being reported in a small number of people who received the AstraZeneca vaccine. This contradicts the news paragraph's claim of embalmers finding unusually long and fibrous blood clots in bodies of vaccinated individuals. The evidence sentences specifically mention that the reported blood clots are rare and different from what the embalmers are claiming to have found.\"}\n",
      "Predicting 591\n",
      "{\"prediction\": \"refute\", \"reason\": \"The evidence sentences provided do not directly support or refute the news paragraph. The evidence sentences discuss suicide as a general public health concern, but do not provide any specific information about Katarina Pavelek's case or the link between her suicide and the Covid-19 booster shot.\"}\n",
      "Predicting 592\n",
      "{\"prediction\": \"refute\", \"reason\": \"The evidence sentences do not provide any credible sources or data to support the claim made in the news paragraph. The claim that over 13 million people worldwide have died as a direct result of taking the mRNA Covid vaccine is not supported by any reliable evidence or scientific studies. Without proper evidence, the claim remains unsubstantiated and should be refuted.\"}\n",
      "Predicting 593\n",
      "{\n",
      "  \"prediction\": \"refute\",\n",
      "  \"reason\": \"The evidence sentences refute the news paragraph's claim that Amish communities experienced significantly fewer deaths compared to mainstream America. The evidence states that the Amish/Mennonite excess death rates are similar to the national trends in the USA and even spiked with a 125% increase in November 2020. Additionally, the evidence highlights the impact of COVID-19 on the Amish community, suggesting that religion alone is not enough to stop the spread of the virus.\"\n",
      "}\n",
      "Predicting 594\n",
      "{\"prediction\": \"refute\", \"reason\": \"The evidence sentences provided do not directly support the central claim made in the news paragraph. The evidence sentences discuss a universal decolonization and COVID prevention training initiative in OC, CA that reduced staff and resident COVID cases in a high-risk care setting. This is unrelated to the accusation of the NHS secretly ordering euthanasia to inflate COVID-19 deaths. Therefore, the evidence refutes the news point of view.\"}\n",
      "Predicting 595\n",
      "{\"prediction\": \"refute\", \"reason\": \"The evidence sentences provided do not support the claim made in the news paragraph. The evidence sentences only mention the outbreak of a respiratory disease in Wuhan and the identification of the novel Coronavirus as the causative agent. There is no mention of the COVID-19 virus being engineered as a bioweapon or any connection to the Wuhan Institute of Virology or Dr. Chao Shan. Therefore, the evidence refutes the news point of view.\"}\n",
      "Predicting 596\n",
      "{\n",
      "  \"prediction\": \"support\",\n",
      "  \"reason\": \"The evidence sentence confirms the central claim made in the news paragraph by stating that there have been over 500 excess deaths per week related to heart diseases since the start of the Covid pandemic, which aligns with the report by the British Heart Foundation.\"\n",
      "}\n",
      "Predicting 597\n",
      "{\n",
      "  \"prediction\": \"refute\",\n",
      "  \"reason\": \"The evidence sentences provided support the effectiveness and benefits of the Pfizer-BioNTech COVID-19 vaccine, which contradicts the claim made in the news paragraph about thousands of deaths and serious adverse events. The evidence sentences highlight the vaccine's ability to prevent COVID-19 cases, hospitalizations, and deaths, as well as the economic gains and cost-savings associated with its widespread uptake.\"\n",
      "}\n",
      "Predicting 598\n",
      "{\n",
      "  \"prediction\": \"refute\",\n",
      "  \"reason\": \"The evidence sentences do not provide credible sources or data to support the claim made in the news paragraph. The claim of 7 million Americans experiencing heart damage from Covid vaccines is solely based on the statement of one cardiologist, without any supporting evidence or studies. Additionally, the estimation of over 50 million Americans sustaining heart damage is not backed by any reliable sources. Without credible evidence, the claim is refuted.\"\n",
      "}\n",
      "Predicting 599\n",
      "{\"prediction\": \"refute\", \"reason\": \"The evidence sentences do not support the news paragraph. The evidence sentences discuss the development of vaccines against COVID-19 and the effectiveness of vaccination, but they do not provide any information or evidence about the presence of HIV-infected green monkey DNA or SV40 promoters in Pfizer and Moderna's mRNA COVID-19 vaccines. Therefore, the evidence sentences refute the claim made in the news paragraph.\"}\n"
     ]
    }
   ],
   "source": [
    "for item in data[590:]:\n",
    "    print(f\"Predicting {i}\")\n",
    "    \n",
    "    news = item['abstractive']\n",
    "    #print(summary)\n",
    "    evidence_sentence = item['selected_sentence']\n",
    "    input_evidence_sentence = \"\"\n",
    "    for sentence in evidence_sentence:\n",
    "        input_evidence_sentence = input_evidence_sentence + sentence\n",
    "   \n",
    "\n",
    "    user_message = f\"\"\"\n",
    "    I will give you one news paragraph {delimiter_1}{news} and several relevant sentences {delimiter_2}{evidence_sentence}.\\\n",
    "    Please help me determine if these sentences support or refute the news point of view. \\\n",
    "    Finally, please answer using one word'refute' or 'support' and give reasons.\\\n",
    "    Please provides the final output in JSON format containing the following two keys: prediction and reason.\n",
    "    \"\"\"\n",
    "\n",
    "    messages =  [  \n",
    "                {'role':'system', 'content': system_message},    \n",
    "                {'role':'user', 'content': user_message},  \n",
    "                ]\n",
    "    response = retry_with_exponential_backoff(messages)\n",
    "    print(response)        \n",
    "    response_json = json.loads(response)\n",
    "    #processed_response = response.split(delimiter_1)[1:]\n",
    "    item['prediction'] = response_json['prediction']\n",
    "    item['reason'] = response_json['reason']\n",
    "    #print(response)\n",
    "    \n",
    "    time.sleep(2)\n",
    "    i += 1"
   ]
  },
  {
   "cell_type": "code",
   "execution_count": 56,
   "id": "f328bce7-422b-45c5-a653-282693798f37",
   "metadata": {},
   "outputs": [],
   "source": [
    "FILE_PATH = 'prediction/prediction_human2_zeroshot.json'\n",
    "with open(FILE_PATH, 'w') as output_file:\n",
    "\tprint(json.dumps(data, indent=2), file=output_file)"
   ]
  }
 ],
 "metadata": {
  "kernelspec": {
   "display_name": "Python 3 (ipykernel)",
   "language": "python",
   "name": "python3"
  },
  "language_info": {
   "codemirror_mode": {
    "name": "ipython",
    "version": 3
   },
   "file_extension": ".py",
   "mimetype": "text/x-python",
   "name": "python",
   "nbconvert_exporter": "python",
   "pygments_lexer": "ipython3",
   "version": "3.9.12"
  }
 },
 "nbformat": 4,
 "nbformat_minor": 5
}
