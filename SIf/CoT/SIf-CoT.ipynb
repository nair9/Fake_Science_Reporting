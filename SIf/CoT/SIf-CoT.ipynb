{
 "cells": [
  {
   "cell_type": "code",
   "execution_count": 1,
   "id": "81442b97-0ff6-47d4-b379-e145c3b98048",
   "metadata": {},
   "outputs": [],
   "source": [
    "import os\n",
    "import ast\n",
    "import openai\n",
    "import time\n",
    "import json"
   ]
  },
  {
   "cell_type": "code",
   "execution_count": 1,
   "id": "d1e1b54c-c3ec-4c31-be39-f4ae79e69fbb",
   "metadata": {},
   "outputs": [],
   "source": [
    "# openai.organization = \"\"  #My OpenAI account\n",
    "# openai.api_key = \"\" #My Key\n",
    "# openai.Model.list()"
   ]
  },
  {
   "cell_type": "code",
   "execution_count": 43,
   "id": "71787e35-a581-4645-ac70-201bc9520dd8",
   "metadata": {},
   "outputs": [
    {
     "name": "stdout",
     "output_type": "stream",
     "text": [
      "600\n"
     ]
    }
   ],
   "source": [
    "with open('summary/human1_summary_by_gpt35.json', 'r') as f:\n",
    "    data = json.load(f)\n",
    "print(len(data))"
   ]
  },
  {
   "cell_type": "code",
   "execution_count": 44,
   "id": "c54f5322-9128-4798-95c1-ba3bb309c107",
   "metadata": {},
   "outputs": [],
   "source": [
    "with open('dataset/evidence_corpus.json', 'r') as f:\n",
    "    evidence_corpus = json.load(f)"
   ]
  },
  {
   "cell_type": "code",
   "execution_count": 45,
   "id": "f0407d35-1b48-4ee8-b518-49564b54de24",
   "metadata": {},
   "outputs": [],
   "source": [
    "uid_list = [doc['cord_uid'] for doc in evidence_corpus]"
   ]
  },
  {
   "cell_type": "code",
   "execution_count": 46,
   "id": "9d2969c9-67d7-404c-a184-187338ff4dd1",
   "metadata": {},
   "outputs": [],
   "source": [
    "# Call GPT3.5 Model \n",
    "def get_completion_from_messages(messages, \n",
    "                                 model=\"gpt-3.5-turbo-16k\", \n",
    "                                 temperature=0, \n",
    "                                 max_tokens=1024):\n",
    "    try:\n",
    "        response = openai.ChatCompletion.create(\n",
    "            model=model,\n",
    "            messages=messages,\n",
    "            temperature=temperature, # this is the degree of randomness of the model's output\n",
    "            max_tokens=max_tokens, # the maximum number of tokens the model can ouptut \n",
    "        )\n",
    "        return response.choices[0].message[\"content\"]\n",
    "    except openai.error.RateLimitError:\n",
    "        return None"
   ]
  },
  {
   "cell_type": "code",
   "execution_count": 47,
   "id": "64c44470-8b8b-4974-adb4-4b4c7c156124",
   "metadata": {},
   "outputs": [],
   "source": [
    "def retry_with_exponential_backoff(input_text, max_retries=5):\n",
    "    retry_count = 0\n",
    "    wait_time = 1  # initial wait time in seconds\n",
    "\n",
    "    while retry_count < max_retries:\n",
    "        response = get_completion_from_messages(input_text)\n",
    "        if response is not None:\n",
    "            return response\n",
    "\n",
    "        time.sleep(wait_time)\n",
    "        wait_time *= 2  # double the wait time for next retry\n",
    "        retry_count += 1\n",
    "\n",
    "    raise Exception(\"Max retries reached\")"
   ]
  },
  {
   "cell_type": "code",
   "execution_count": 48,
   "id": "e8ba4059-a60d-45f8-ada0-74dd2f7629cc",
   "metadata": {},
   "outputs": [],
   "source": [
    "delimiter_1 = \"#\"\n",
    "delimiter_2 = \"##\"\n",
    "\n",
    "#system_message = f\"\"\"\n",
    "#You are a Fact Checker.\\\n",
    "#The user will give you a news paragraph and several evidence sentences.\\\n",
    "#The evidence sentence may contain information that supports or refutes the news paragraph’s central claim. \\\n",
    "#Determine whether the news story is factual or not based on the evidence sentences.\\ \n",
    "#Pick phrases or sentences from both the news story and the evidence to support your conclusion.\\\n",
    "#The user will put the news paragraph behind {delimiter_1} and the relevant sentence behind {delimiter_2}. \n",
    "#\"\"\"\n",
    "system_message = f\"\"\"\n",
    "You are a Fact Checker.\\\n",
    "The user will present a news paragraph. This will be marked with the delimiter {delimiter_1}. \\\n",
    "Following this, the user will present evidence paragraphs, marked with the delimiter {delimiter_2}. These sentences may either support or refute the news paragraph's central claim.\\\n",
    "Your task is to determine the factual accuracy of the news story based on these evidence paragraphs. Are they supporting or contradicting the news?\n",
    "Make a final prediction and provide a comprehensive explanation based on the following:\\\n",
    "\n",
    "1. Initial Analysis: Summarize the news paragraph's central claim, identifying key concepts.\\\n",
    "2. Alignment Check: Examine evidence sentences for alignment with the news paragraph. Flag any discrepancies.\\\n",
    "3. Causation Assessment: Evaluate if the news paragraph confuses correlation with causation. Identify potential logical fallacies.\\\n",
    "4. Accuracy Verification:Verify quantitative and qualitative accuracy in the news paragraph compared to evidence sentences.\\\n",
    "5. Precision Check: Assess if the news paragraph overgeneralizes or oversimplifies findings from evidence sentences.\\\n",
    "6. Contextual Insight: Consider the broader context surrounding the news and evidence.\\\n",
    "7. Phrase Selection: Select precise phrases from both the news story and evidence to support each analysis step.\\\n",
    "\n",
    "The user will input the news paragraph behind {delimiter_1} and the relevant sentence behind {delimiter_2}.\n",
    "\"\"\""
   ]
  },
  {
   "cell_type": "code",
   "execution_count": 85,
   "id": "aa9cc357-5e1e-4cdc-b47d-201f38056551",
   "metadata": {},
   "outputs": [],
   "source": [
    "i = 596"
   ]
  },
  {
   "cell_type": "code",
   "execution_count": 86,
   "id": "d655af5c-156a-46b5-bf41-0bf52bf3bd3e",
   "metadata": {},
   "outputs": [
    {
     "name": "stdout",
     "output_type": "stream",
     "text": [
      "Predicting 596\n",
      "{\n",
      "    \"prediction\": \"support\",\n",
      "    \"reason\": \"The relevant sentences provide evidence that corroborates the main point made in the news paragraph by presenting similar findings. The evidence paragraphs mention President Biden's plans for infrastructure and social welfare, which aligns with the news paragraph's claim of outlining his plans. Additionally, the evidence paragraphs mention the challenges faced by Biden's administration, such as vaccine distribution and addressing the influx of migrants at the border, which supports the news paragraph's statement of challenges remaining. Overall, the evidence paragraphs provide supporting information that aligns with the central claim of the news paragraph.\"\n",
      "}\n",
      "Predicting 597\n",
      "{\n",
      "    \"prediction\": \"refute\",\n",
      "    \"reason\": \"The relevant sentences provide evidence that contradicts the main point made in the news paragraph. While the news paragraph claims that fully vaccinated adults aged 65 or older are 94% less likely to be hospitalized with COVID-19, the evidence sentences indicate that fully vaccinated patients had similar clinical outcomes and mortality rates as unvaccinated patients. This suggests that the immune response elicited by the vaccine may be insufficient to prevent severe disease and death among elderly people with comorbidities. Therefore, the evidence does not support the claim made in the news paragraph.\"\n",
      "}\n",
      "Predicting 598\n",
      "{\n",
      "    \"prediction\": \"support\",\n",
      "    \"reason\": \"The relevant sentences provide evidence that corroborates the main point made in the news paragraph by presenting similar findings. The evidence sentences mention that the Pfizer/BioNTech mRNA vaccine protects against viral escape and provides coverage against current variants of concern/interest. This aligns with the news paragraph's claim that the vaccine protects COVID-19 survivors against variants and enhances antibody responses. Additionally, the evidence sentence about liver damage and exposure to toxic concentrations of endogenous retinoids supports the news paragraph's claim that the spike proteins of the coronavirus cause direct damage to the cells lining the blood vessels, potentially explaining the blood clots associated with COVID-19. Overall, the evidence sentences provide supporting evidence for the central claim of the news paragraph.\" \n",
      "}\n",
      "Predicting 599\n",
      "{\n",
      "    \"prediction\": \"support\",\n",
      "    \"reason\": \"The relevant sentences provide evidence that corroborates the main point made in the news paragraph by presenting similar findings. The news paragraph states that nearly all patients with cancer developed a good immune response to COVID-19 mRNA vaccines, and the evidence sentences support this by discussing the urgent need for COVID-19 vaccines for cancer patients and the potential benefits of vaccination for cancer patients. Additionally, the evidence sentences mention a survey of cancer patients and their family members, which further supports the idea that cancer patients are interested in receiving COVID-19 vaccines. Overall, the evidence sentences align with and support the central claim of the news paragraph.\"\n",
      "}\n"
     ]
    }
   ],
   "source": [
    "for item in data[596:]:\n",
    "    print(f\"Predicting {i}\")\n",
    "    \n",
    "    news = item['abstractive']\n",
    "    #print(summary)\n",
    "    evidence_id = item['evidence']\n",
    "    evidence = ''\n",
    "    for id in evidence_id:\n",
    "        evidence = evidence + evidence_corpus[uid_list.index(id)]['title'] + evidence_corpus[uid_list.index(id)]['abstract']\n",
    "   \n",
    "\n",
    "    #user_message = f\"\"\"\n",
    "    #I will give you one news paragraph {delimiter_1}{news} and several relevant sentences {delimiter_2}{evidence_sentence}.\\\n",
    "    #Please help me determine if these sentences support or refute the news point of view. \\\n",
    "    #Finally, please answer using one word'refute' or 'support' and give reasons.\\\n",
    "    #Please provides the final output in JSON format containing the following two keys: prediction and reason.\n",
    "    #\"\"\"\n",
    "    user_message = f\"\"\"\n",
    "    I will give you one news paragraph {delimiter_1}{news} and several relevant paragraph {delimiter_2}{evidence}.\\\n",
    "    Please help me determine if these paragraph support or refute the news point of view. \\\n",
    "    Finally, please answer using one word'refute' or 'support' and give reasons.\\\n",
    "    Please provides the final output in JSON format containing the following two keys: prediction and reason.\n",
    "    Example of Expected Output:\n",
    "    {{\n",
    "        \"prediction\": \"support\",\n",
    "        \"reason\": \"The relevant sentences provide evidence that corroborates the main point made in the news paragraph by presenting similar findings...\"\n",
    "    }}\n",
    "    Please provide your analysis in the above format. Don't add ```json at the beginning of output.\n",
    "    \"\"\"\n",
    "\n",
    "    messages =  [  \n",
    "                {'role':'system', 'content': system_message},    \n",
    "                {'role':'user', 'content': user_message},  \n",
    "                ]\n",
    "    response = retry_with_exponential_backoff(messages)\n",
    "    print(response)\n",
    "    response_json = json.loads(response)\n",
    "    #processed_response = response.split(delimiter_1)[1:]\n",
    "    item['prediction'] = response_json['prediction']\n",
    "    item['reason'] = response_json['reason']\n",
    "    #print(response)\n",
    "    \n",
    "    time.sleep(2)\n",
    "    i += 1"
   ]
  },
  {
   "cell_type": "code",
   "execution_count": 87,
   "id": "f328bce7-422b-45c5-a653-282693798f37",
   "metadata": {},
   "outputs": [],
   "source": [
    "FILE_PATH = 'prediction/sif_cot_prediction_human1_gpt35.json'\n",
    "with open(FILE_PATH, 'w') as output_file:\n",
    "\tprint(json.dumps(data, indent=2), file=output_file) "
   ]
  }
 ],
 "metadata": {
  "kernelspec": {
   "display_name": "Python 3 (ipykernel)",
   "language": "python",
   "name": "python3"
  },
  "language_info": {
   "codemirror_mode": {
    "name": "ipython",
    "version": 3
   },
   "file_extension": ".py",
   "mimetype": "text/x-python",
   "name": "python",
   "nbconvert_exporter": "python",
   "pygments_lexer": "ipython3",
   "version": "3.9.12"
  }
 },
 "nbformat": 4,
 "nbformat_minor": 5
}
