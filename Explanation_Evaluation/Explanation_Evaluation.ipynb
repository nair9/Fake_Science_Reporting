{
 "cells": [
  {
   "cell_type": "code",
   "execution_count": 2,
   "id": "3baa35d7",
   "metadata": {},
   "outputs": [],
   "source": [
    "import pandas as pd\n",
    "import numpy as np\n",
    "import json\n",
    "import os"
   ]
  },
  {
   "cell_type": "code",
   "execution_count": 4,
   "id": "9317bdf3",
   "metadata": {},
   "outputs": [],
   "source": [
    "with open('new_task/new_task/final_output_part2__.json', 'r') as file:\n",
    "    d2 = json.load(file)"
   ]
  },
  {
   "cell_type": "code",
   "execution_count": 5,
   "id": "c71bee69",
   "metadata": {},
   "outputs": [],
   "source": [
    "with open('new_task/new_task/final_output.json', 'r') as file:\n",
    "    d1 = json.load(file)"
   ]
  },
  {
   "cell_type": "code",
   "execution_count": 6,
   "id": "36a5f731",
   "metadata": {},
   "outputs": [],
   "source": [
    "d3 = d1 + d2"
   ]
  },
  {
   "cell_type": "code",
   "execution_count": 7,
   "id": "350a3a24",
   "metadata": {},
   "outputs": [
    {
     "data": {
      "text/plain": [
       "1200"
      ]
     },
     "execution_count": 7,
     "metadata": {},
     "output_type": "execute_result"
    }
   ],
   "source": [
    "len(d3)"
   ]
  },
  {
   "cell_type": "code",
   "execution_count": 8,
   "id": "e45e6577",
   "metadata": {},
   "outputs": [
    {
     "name": "stdout",
     "output_type": "stream",
     "text": [
      "A recent study conducted at St. George's Hospital in London found that mask mandates had \"no discernible difference\" in COVID-19 transmission rates in hospitals. The data also showed that infection rates did not increase when mask mandates were not in place in National Health Service (NHS) facilities during the surge of omicron cases. However, health experts argue that this does not mean face masks are \"worthless\" and emphasize the need for \"rational and proportionate\" masking policies in hospitals for future coronavirus flare-ups. The study analyzed infection control data over a 40-week period and found that lifting mask mandates did not significantly change the hospital-acquired COVID-19 infection rate. Despite the evidence, face masks have become a symbol of the COVID-19 culture wars, and skepticism remains due to mixed messages and inconclusive studies on their effectiveness. The study's authors suggest using their findings to inform mask policies in healthcare settings.\n",
      "\n",
      "False\n",
      "\n",
      "The evidence abstracts contradict the news paragraph. The news paragraph claims that the study found no discernible difference in COVID-19 transmission rates in hospitals with mask mandates, while the evidence abstracts suggest that mask mandates are associated with reductions in SARS-CoV-2 transmission and contribute to reductions in COVID-19 hospitalization growth rates. Therefore, the news paragraph is factually false.\n",
      "\n"
     ]
    }
   ],
   "source": [
    "for i in d3:\n",
    "    print(i['news'],end='\\n\\n')\n",
    "    print(i['prediction'],end='\\n\\n')\n",
    "    print(i['reason'],end='\\n\\n')\n",
    "    \n",
    "    break"
   ]
  },
  {
   "cell_type": "code",
   "execution_count": 9,
   "id": "bc9d9ea8",
   "metadata": {},
   "outputs": [],
   "source": [
    "from sentence_transformers import SentenceTransformer\n",
    "from sklearn.metrics.pairwise import cosine_similarity"
   ]
  },
  {
   "cell_type": "code",
   "execution_count": 10,
   "id": "0c7943cf",
   "metadata": {},
   "outputs": [],
   "source": [
    "model = SentenceTransformer('paraphrase-distilroberta-base-v1')"
   ]
  },
  {
   "cell_type": "code",
   "execution_count": 11,
   "id": "b71aed8b",
   "metadata": {},
   "outputs": [],
   "source": [
    "news_embedding = model.encode(i['news'])\n",
    "evidence_embeddings = model.encode(i['reason'])"
   ]
  },
  {
   "cell_type": "code",
   "execution_count": 12,
   "id": "dd55fb1d",
   "metadata": {},
   "outputs": [
    {
     "data": {
      "text/plain": [
       "(768,)"
      ]
     },
     "execution_count": 12,
     "metadata": {},
     "output_type": "execute_result"
    }
   ],
   "source": [
    "evidence_embeddings.shape"
   ]
  },
  {
   "cell_type": "code",
   "execution_count": 13,
   "id": "2ca5d38b",
   "metadata": {},
   "outputs": [
    {
     "name": "stdout",
     "output_type": "stream",
     "text": [
      "Similarity with reason : [[0.9999999  0.63477015]\n",
      " [0.63477015 0.99999976]]\n"
     ]
    }
   ],
   "source": [
    "similarities = cosine_similarity([news_embedding, evidence_embeddings])\n",
    "\n",
    "print(f\"Similarity with reason : {similarities}\")"
   ]
  },
  {
   "cell_type": "code",
   "execution_count": 14,
   "id": "5c2f76f1",
   "metadata": {},
   "outputs": [
    {
     "data": {
      "text/plain": [
       "0.63477015"
      ]
     },
     "execution_count": 14,
     "metadata": {},
     "output_type": "execute_result"
    }
   ],
   "source": [
    "similarities[0][1]"
   ]
  },
  {
   "cell_type": "code",
   "execution_count": 16,
   "id": "8b3dc82f",
   "metadata": {},
   "outputs": [],
   "source": [
    "import tqdm as tqdm"
   ]
  },
  {
   "cell_type": "code",
   "execution_count": 21,
   "id": "62ff81e9",
   "metadata": {},
   "outputs": [
    {
     "name": "stderr",
     "output_type": "stream",
     "text": [
      "  0%|          | 0/1199 [00:00<?, ?it/s]\n"
     ]
    }
   ],
   "source": [
    "sem_sim = {}\n",
    "for i in tqdm.tqdm(d3[1:]):\n",
    "#     print(i['news'],end='\\n\\n')\n",
    "#     print(i['prediction'],end='\\n\\n')\n",
    "#     print(i['reason'],end='\\n\\n')\n",
    "    \n",
    "    news_embedding = model.encode(i['news'])\n",
    "    evidence_embeddings = model.encode(i['reason'])\n",
    "    similarities = cosine_similarity([news_embedding, evidence_embeddings])\n",
    "    sem_sim[i['prediction']] = similarities[0][1]\n",
    "    break"
   ]
  },
  {
   "cell_type": "code",
   "execution_count": 22,
   "id": "25b0846c",
   "metadata": {},
   "outputs": [
    {
     "data": {
      "text/plain": [
       "{'True': 0.64211416}"
      ]
     },
     "execution_count": 22,
     "metadata": {},
     "output_type": "execute_result"
    }
   ],
   "source": [
    "sem_sim"
   ]
  },
  {
   "cell_type": "code",
   "execution_count": 23,
   "id": "73bef009",
   "metadata": {},
   "outputs": [
    {
     "data": {
      "text/plain": [
       "'The evidence abstracts support the claims made in the news paragraph. The first abstract discusses the use of modified RNA (modRNA) in mRNA vaccines, which aligns with the statement in the news paragraph about genetically manipulating healthy human cells. The second abstract mentions the rapid development of COVID-19 modRNA vaccines and their effectiveness against virus infection, supporting the claim about the use of modRNA in vaccines. The third abstract discusses RNA recombination between viruses, which is not directly related to the claims in the news paragraph.'"
      ]
     },
     "execution_count": 23,
     "metadata": {},
     "output_type": "execute_result"
    }
   ],
   "source": [
    "i['reason']"
   ]
  },
  {
   "cell_type": "code",
   "execution_count": null,
   "id": "8bbb5c2c",
   "metadata": {},
   "outputs": [],
   "source": []
  },
  {
   "cell_type": "code",
   "execution_count": null,
   "id": "d1a33f1e",
   "metadata": {},
   "outputs": [],
   "source": []
  },
  {
   "cell_type": "code",
   "execution_count": null,
   "id": "2a178728",
   "metadata": {},
   "outputs": [],
   "source": []
  },
  {
   "cell_type": "code",
   "execution_count": null,
   "id": "c240f376",
   "metadata": {},
   "outputs": [],
   "source": []
  },
  {
   "cell_type": "code",
   "execution_count": null,
   "id": "b5fd28cc",
   "metadata": {},
   "outputs": [],
   "source": []
  }
 ],
 "metadata": {
  "kernelspec": {
   "display_name": "Python 3 (ipykernel)",
   "language": "python",
   "name": "python3"
  },
  "language_info": {
   "codemirror_mode": {
    "name": "ipython",
    "version": 3
   },
   "file_extension": ".py",
   "mimetype": "text/x-python",
   "name": "python",
   "nbconvert_exporter": "python",
   "pygments_lexer": "ipython3",
   "version": "3.9.12"
  }
 },
 "nbformat": 4,
 "nbformat_minor": 5
}
