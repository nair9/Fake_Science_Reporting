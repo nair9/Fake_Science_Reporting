{
 "cells": [
  {
   "cell_type": "code",
   "execution_count": 1,
   "id": "b056577f-d2de-4564-b3b4-d6a2b2fb1b64",
   "metadata": {},
   "outputs": [],
   "source": [
    "import os\n",
    "import ast\n",
    "import openai\n",
    "import time\n",
    "import json\n",
    "from tqdm import tqdm\n",
    "from json import JSONDecodeError\n",
    "import re"
   ]
  },
  {
   "cell_type": "code",
   "execution_count": 1,
   "id": "281ad7f8-3a4e-4cbf-8388-b4a7f4741aa7",
   "metadata": {},
   "outputs": [],
   "source": [
    "# openai.organization = \"\"  #My OpenAI account\n",
    "# openai.api_key = \"\"\n",
    "# openai.Model.list()\n",
    "\n",
    "# # engines = openai.Engine.list()\n",
    "# # print(engines)"
   ]
  },
  {
   "cell_type": "code",
   "execution_count": 3,
   "id": "e26794c1-b23b-4c77-aa09-df1eb463bef0",
   "metadata": {},
   "outputs": [
    {
     "name": "stdout",
     "output_type": "stream",
     "text": [
      "1200\n"
     ]
    }
   ],
   "source": [
    "with open('human_summarization_by_gpt35.json', 'r') as f:\n",
    "    data = json.load(f)\n",
    "# with open('human2_summary_by_gpt35.json', 'r') as f:\n",
    "#     data2 = json.load(f)\n",
    "\n",
    "# data = data1 + data2\n",
    "print(len(data))"
   ]
  },
  {
   "cell_type": "code",
   "execution_count": 4,
   "id": "331db7b7",
   "metadata": {},
   "outputs": [
    {
     "name": "stdout",
     "output_type": "stream",
     "text": [
      "8096\n"
     ]
    }
   ],
   "source": [
    "with open('evidence_corpus.json', 'r', encoding='utf-8') as f:\n",
    "    evidence_data = json.load(f)\n",
    "print(len(evidence_data))"
   ]
  },
  {
   "cell_type": "code",
   "execution_count": 5,
   "id": "54f8f022-1aac-4a9f-8a70-43e0b052c7e1",
   "metadata": {},
   "outputs": [],
   "source": [
    "# Call GPT3.5 Model \n",
    "def get_completion_from_messages(messages, \n",
    "#                                  model= \"gpt-3.5-turbo-16k\",\n",
    "                                 model= \"gpt-3.5-turbo-0125\",\n",
    "                                 temperature=0, \n",
    "                                 max_tokens=256):\n",
    "    response = openai.ChatCompletion.create(\n",
    "        model=model,\n",
    "        messages=messages,\n",
    "        temperature=temperature, # this is the degree of randomness of the model's output\n",
    "        max_tokens=max_tokens, # the maximum number of tokens the model can ouptut \n",
    "        format={\"type\": \"json_object\"}\n",
    "    )\n",
    "    return response.choices[0].message[\"content\"]"
   ]
  },
  {
   "cell_type": "code",
   "execution_count": 6,
   "id": "aefa99b5-0675-4f01-ae64-765ffea9afb2",
   "metadata": {},
   "outputs": [],
   "source": [
    "# delimiter_1 = \"#\"\n",
    "# delimiter_2 = \"##\"\n",
    "\n",
    "# system_message = f\"\"\"\n",
    "# You are a Fact Checker.\\\n",
    "# Given a news paragraph and evidence, assess the factual accuracy of the news story.\\\n",
    "# Provide a comprehensive explanation step by step and include it in the reason:\\\n",
    "\n",
    "# 1. Initial Analysis: Summarize the news paragraph's central claim, identifying key concepts.\\\n",
    "# 2. Alignment Check: Examine evidence for alignment with the news paragraph. Flag any discrepancies.\\\n",
    "# 3. Causation Assessment: Evaluate if the news paragraph confuses correlation with causation. Identify potential logical fallacies.\\\n",
    "# 4. Accuracy Verification:Verify quantitative and qualitative accuracy in the news paragraph compared to evidence.\\\n",
    "# 5. Precision Check: Assess if the news paragraph overgeneralizes or oversimplifies findings from evidence.\\\n",
    "# 6. Contextual Insight: Consider the broader context surrounding the news and evidence.\\\n",
    "# 7. Phrase Selection: Select precise phrases from both the news story and evidence to support each analysis step.\\\n",
    "\n",
    "# The user will input the news paragraph behind {delimiter_1} and the relevant evidence behind {delimiter_2}.\n",
    "# \"\"\""
   ]
  },
  {
   "cell_type": "code",
   "execution_count": 7,
   "id": "ecfaa7a4",
   "metadata": {},
   "outputs": [],
   "source": [
    "delimiter_1 = \"#\"\n",
    "delimiter_2 = \"##\"\n",
    "\n",
    "system_message = f\"\"\"\n",
    "You are a Fact Checker.\n",
    "Given a news paragraph and evidence, assess the factual accuracy of the news story.\n",
    "Make a prediction and provide an explanation for your prediction based on the defined axes of scientific validity. \n",
    "\n",
    "Axes of scientific validity:\n",
    "1. Alignment: Alignment is defined as news and evidence representing the same meaning about one scientific content.\n",
    "2. Causation Confusion: The news article may confuse correlations presented in the scientific literature as causation. This could be one dimension in which the scientific validity is compromised.\n",
    "3. Accuracy: This refers to how accurately the news item describes the scientific findings quantitatively and qualitatively.\n",
    "4. Generalization: This refers to overgeneralization or oversimplification of the findings reported in the scientific literature.\n",
    "5. Contextual Fidelity: Does the news article retain the broader context of the scientific finding?\n",
    "\n",
    "The user will input the news paragraph behind {delimiter_1} and the relevant evidence behind {delimiter_2}.\n",
    "\"\"\""
   ]
  },
  {
   "cell_type": "code",
   "execution_count": 8,
   "id": "53cd6651-9b4b-40a7-bb36-dee05d52e4d0",
   "metadata": {},
   "outputs": [],
   "source": [
    "i = 0\n",
    "generated_result = []\n",
    "all_resp = []"
   ]
  },
  {
   "cell_type": "code",
   "execution_count": 10,
   "id": "34065472-ab97-45dd-8638-f37cd4f7e353",
   "metadata": {
    "scrolled": true
   },
   "outputs": [
    {
     "name": "stderr",
     "output_type": "stream",
     "text": [
      "  1%|          | 7/1200 [01:10<3:21:32, 10.14s/it]\n"
     ]
    },
    {
     "ename": "APIError",
     "evalue": "HTTP code 502 from API (<html>\r\n<head><title>502 Bad Gateway</title></head>\r\n<body>\r\n<center><h1>502 Bad Gateway</h1></center>\r\n<hr><center>cloudflare</center>\r\n</body>\r\n</html>\r\n)",
     "output_type": "error",
     "traceback": [
      "\u001b[1;31m---------------------------------------------------------------------------\u001b[0m",
      "\u001b[1;31mJSONDecodeError\u001b[0m                           Traceback (most recent call last)",
      "File \u001b[1;32m~\\anaconda3\\lib\\site-packages\\openai\\api_requestor.py:755\u001b[0m, in \u001b[0;36mAPIRequestor._interpret_response_line\u001b[1;34m(self, rbody, rcode, rheaders, stream)\u001b[0m\n\u001b[0;32m    754\u001b[0m     \u001b[38;5;28;01melse\u001b[39;00m:\n\u001b[1;32m--> 755\u001b[0m         data \u001b[38;5;241m=\u001b[39m \u001b[43mjson\u001b[49m\u001b[38;5;241;43m.\u001b[39;49m\u001b[43mloads\u001b[49m\u001b[43m(\u001b[49m\u001b[43mrbody\u001b[49m\u001b[43m)\u001b[49m\n\u001b[0;32m    756\u001b[0m \u001b[38;5;28;01mexcept\u001b[39;00m (JSONDecodeError, \u001b[38;5;167;01mUnicodeDecodeError\u001b[39;00m) \u001b[38;5;28;01mas\u001b[39;00m e:\n",
      "File \u001b[1;32m~\\anaconda3\\lib\\json\\__init__.py:346\u001b[0m, in \u001b[0;36mloads\u001b[1;34m(s, cls, object_hook, parse_float, parse_int, parse_constant, object_pairs_hook, **kw)\u001b[0m\n\u001b[0;32m    343\u001b[0m \u001b[38;5;28;01mif\u001b[39;00m (\u001b[38;5;28mcls\u001b[39m \u001b[38;5;129;01mis\u001b[39;00m \u001b[38;5;28;01mNone\u001b[39;00m \u001b[38;5;129;01mand\u001b[39;00m object_hook \u001b[38;5;129;01mis\u001b[39;00m \u001b[38;5;28;01mNone\u001b[39;00m \u001b[38;5;129;01mand\u001b[39;00m\n\u001b[0;32m    344\u001b[0m         parse_int \u001b[38;5;129;01mis\u001b[39;00m \u001b[38;5;28;01mNone\u001b[39;00m \u001b[38;5;129;01mand\u001b[39;00m parse_float \u001b[38;5;129;01mis\u001b[39;00m \u001b[38;5;28;01mNone\u001b[39;00m \u001b[38;5;129;01mand\u001b[39;00m\n\u001b[0;32m    345\u001b[0m         parse_constant \u001b[38;5;129;01mis\u001b[39;00m \u001b[38;5;28;01mNone\u001b[39;00m \u001b[38;5;129;01mand\u001b[39;00m object_pairs_hook \u001b[38;5;129;01mis\u001b[39;00m \u001b[38;5;28;01mNone\u001b[39;00m \u001b[38;5;129;01mand\u001b[39;00m \u001b[38;5;129;01mnot\u001b[39;00m kw):\n\u001b[1;32m--> 346\u001b[0m     \u001b[38;5;28;01mreturn\u001b[39;00m \u001b[43m_default_decoder\u001b[49m\u001b[38;5;241;43m.\u001b[39;49m\u001b[43mdecode\u001b[49m\u001b[43m(\u001b[49m\u001b[43ms\u001b[49m\u001b[43m)\u001b[49m\n\u001b[0;32m    347\u001b[0m \u001b[38;5;28;01mif\u001b[39;00m \u001b[38;5;28mcls\u001b[39m \u001b[38;5;129;01mis\u001b[39;00m \u001b[38;5;28;01mNone\u001b[39;00m:\n",
      "File \u001b[1;32m~\\anaconda3\\lib\\json\\decoder.py:337\u001b[0m, in \u001b[0;36mJSONDecoder.decode\u001b[1;34m(self, s, _w)\u001b[0m\n\u001b[0;32m    333\u001b[0m \u001b[38;5;124;03m\"\"\"Return the Python representation of ``s`` (a ``str`` instance\u001b[39;00m\n\u001b[0;32m    334\u001b[0m \u001b[38;5;124;03mcontaining a JSON document).\u001b[39;00m\n\u001b[0;32m    335\u001b[0m \n\u001b[0;32m    336\u001b[0m \u001b[38;5;124;03m\"\"\"\u001b[39;00m\n\u001b[1;32m--> 337\u001b[0m obj, end \u001b[38;5;241m=\u001b[39m \u001b[38;5;28;43mself\u001b[39;49m\u001b[38;5;241;43m.\u001b[39;49m\u001b[43mraw_decode\u001b[49m\u001b[43m(\u001b[49m\u001b[43ms\u001b[49m\u001b[43m,\u001b[49m\u001b[43m \u001b[49m\u001b[43midx\u001b[49m\u001b[38;5;241;43m=\u001b[39;49m\u001b[43m_w\u001b[49m\u001b[43m(\u001b[49m\u001b[43ms\u001b[49m\u001b[43m,\u001b[49m\u001b[43m \u001b[49m\u001b[38;5;241;43m0\u001b[39;49m\u001b[43m)\u001b[49m\u001b[38;5;241;43m.\u001b[39;49m\u001b[43mend\u001b[49m\u001b[43m(\u001b[49m\u001b[43m)\u001b[49m\u001b[43m)\u001b[49m\n\u001b[0;32m    338\u001b[0m end \u001b[38;5;241m=\u001b[39m _w(s, end)\u001b[38;5;241m.\u001b[39mend()\n",
      "File \u001b[1;32m~\\anaconda3\\lib\\json\\decoder.py:355\u001b[0m, in \u001b[0;36mJSONDecoder.raw_decode\u001b[1;34m(self, s, idx)\u001b[0m\n\u001b[0;32m    354\u001b[0m \u001b[38;5;28;01mexcept\u001b[39;00m \u001b[38;5;167;01mStopIteration\u001b[39;00m \u001b[38;5;28;01mas\u001b[39;00m err:\n\u001b[1;32m--> 355\u001b[0m     \u001b[38;5;28;01mraise\u001b[39;00m JSONDecodeError(\u001b[38;5;124m\"\u001b[39m\u001b[38;5;124mExpecting value\u001b[39m\u001b[38;5;124m\"\u001b[39m, s, err\u001b[38;5;241m.\u001b[39mvalue) \u001b[38;5;28;01mfrom\u001b[39;00m \u001b[38;5;28mNone\u001b[39m\n\u001b[0;32m    356\u001b[0m \u001b[38;5;28;01mreturn\u001b[39;00m obj, end\n",
      "\u001b[1;31mJSONDecodeError\u001b[0m: Expecting value: line 1 column 1 (char 0)",
      "\nThe above exception was the direct cause of the following exception:\n",
      "\u001b[1;31mAPIError\u001b[0m                                  Traceback (most recent call last)",
      "Input \u001b[1;32mIn [10]\u001b[0m, in \u001b[0;36m<cell line: 1>\u001b[1;34m()\u001b[0m\n\u001b[0;32m     31\u001b[0m     assistant_message \u001b[38;5;241m=\u001b[39m \u001b[38;5;124m\"\"\"\u001b[39m\n\u001b[0;32m     32\u001b[0m \u001b[38;5;124m    As a Fact Checker, carefully analyze the evidence abstracts and provide the result.\u001b[39m\n\u001b[0;32m     33\u001b[0m \u001b[38;5;124m    Reference specific phrases or sentences from both the news story and the evidence to support your prediction.\u001b[39m\n\u001b[0;32m     34\u001b[0m \u001b[38;5;124m    \u001b[39m\u001b[38;5;124m\"\"\"\u001b[39m\n\u001b[0;32m     36\u001b[0m     messages \u001b[38;5;241m=\u001b[39m  [ {\u001b[38;5;124m'\u001b[39m\u001b[38;5;124mrole\u001b[39m\u001b[38;5;124m'\u001b[39m:\u001b[38;5;124m'\u001b[39m\u001b[38;5;124msystem\u001b[39m\u001b[38;5;124m'\u001b[39m, \u001b[38;5;124m'\u001b[39m\u001b[38;5;124mcontent\u001b[39m\u001b[38;5;124m'\u001b[39m: system_message},    \n\u001b[0;32m     37\u001b[0m                   {\u001b[38;5;124m'\u001b[39m\u001b[38;5;124mrole\u001b[39m\u001b[38;5;124m'\u001b[39m:\u001b[38;5;124m'\u001b[39m\u001b[38;5;124muser\u001b[39m\u001b[38;5;124m'\u001b[39m, \u001b[38;5;124m'\u001b[39m\u001b[38;5;124mcontent\u001b[39m\u001b[38;5;124m'\u001b[39m: user_message},  \n\u001b[0;32m     38\u001b[0m                   {\u001b[38;5;124m'\u001b[39m\u001b[38;5;124mrole\u001b[39m\u001b[38;5;124m'\u001b[39m: \u001b[38;5;124m'\u001b[39m\u001b[38;5;124massistant\u001b[39m\u001b[38;5;124m'\u001b[39m, \u001b[38;5;124m'\u001b[39m\u001b[38;5;124mcontent\u001b[39m\u001b[38;5;124m'\u001b[39m: assistant_message}]    \n\u001b[1;32m---> 40\u001b[0m     response \u001b[38;5;241m=\u001b[39m \u001b[43mget_completion_from_messages\u001b[49m\u001b[43m(\u001b[49m\u001b[43mmessages\u001b[49m\u001b[43m)\u001b[49m\n\u001b[0;32m     41\u001b[0m \u001b[38;5;66;03m#     print(response)\u001b[39;00m\n\u001b[0;32m     43\u001b[0m     result \u001b[38;5;241m=\u001b[39m \u001b[38;5;28mdict\u001b[39m()\n",
      "Input \u001b[1;32mIn [5]\u001b[0m, in \u001b[0;36mget_completion_from_messages\u001b[1;34m(messages, model, temperature, max_tokens)\u001b[0m\n\u001b[0;32m      2\u001b[0m \u001b[38;5;28;01mdef\u001b[39;00m \u001b[38;5;21mget_completion_from_messages\u001b[39m(messages, \n\u001b[0;32m      3\u001b[0m \u001b[38;5;66;03m#                                  model= \"gpt-3.5-turbo-16k\",\u001b[39;00m\n\u001b[0;32m      4\u001b[0m                                  model\u001b[38;5;241m=\u001b[39m \u001b[38;5;124m\"\u001b[39m\u001b[38;5;124mgpt-3.5-turbo-0125\u001b[39m\u001b[38;5;124m\"\u001b[39m,\n\u001b[0;32m      5\u001b[0m                                  temperature\u001b[38;5;241m=\u001b[39m\u001b[38;5;241m0\u001b[39m, \n\u001b[0;32m      6\u001b[0m                                  max_tokens\u001b[38;5;241m=\u001b[39m\u001b[38;5;241m256\u001b[39m):\n\u001b[1;32m----> 7\u001b[0m     response \u001b[38;5;241m=\u001b[39m \u001b[43mopenai\u001b[49m\u001b[38;5;241;43m.\u001b[39;49m\u001b[43mChatCompletion\u001b[49m\u001b[38;5;241;43m.\u001b[39;49m\u001b[43mcreate\u001b[49m\u001b[43m(\u001b[49m\n\u001b[0;32m      8\u001b[0m \u001b[43m        \u001b[49m\u001b[43mmodel\u001b[49m\u001b[38;5;241;43m=\u001b[39;49m\u001b[43mmodel\u001b[49m\u001b[43m,\u001b[49m\n\u001b[0;32m      9\u001b[0m \u001b[43m        \u001b[49m\u001b[43mmessages\u001b[49m\u001b[38;5;241;43m=\u001b[39;49m\u001b[43mmessages\u001b[49m\u001b[43m,\u001b[49m\n\u001b[0;32m     10\u001b[0m \u001b[43m        \u001b[49m\u001b[43mtemperature\u001b[49m\u001b[38;5;241;43m=\u001b[39;49m\u001b[43mtemperature\u001b[49m\u001b[43m,\u001b[49m\u001b[43m \u001b[49m\u001b[38;5;66;43;03m# this is the degree of randomness of the model's output\u001b[39;49;00m\n\u001b[0;32m     11\u001b[0m \u001b[43m        \u001b[49m\u001b[43mmax_tokens\u001b[49m\u001b[38;5;241;43m=\u001b[39;49m\u001b[43mmax_tokens\u001b[49m\u001b[43m,\u001b[49m\u001b[43m \u001b[49m\u001b[38;5;66;43;03m# the maximum number of tokens the model can ouptut \u001b[39;49;00m\n\u001b[0;32m     12\u001b[0m \u001b[43m        \u001b[49m\u001b[38;5;28;43mformat\u001b[39;49m\u001b[38;5;241;43m=\u001b[39;49m\u001b[43m{\u001b[49m\u001b[38;5;124;43m\"\u001b[39;49m\u001b[38;5;124;43mtype\u001b[39;49m\u001b[38;5;124;43m\"\u001b[39;49m\u001b[43m:\u001b[49m\u001b[43m \u001b[49m\u001b[38;5;124;43m\"\u001b[39;49m\u001b[38;5;124;43mjson_object\u001b[39;49m\u001b[38;5;124;43m\"\u001b[39;49m\u001b[43m}\u001b[49m\n\u001b[0;32m     13\u001b[0m \u001b[43m    \u001b[49m\u001b[43m)\u001b[49m\n\u001b[0;32m     14\u001b[0m     \u001b[38;5;28;01mreturn\u001b[39;00m response\u001b[38;5;241m.\u001b[39mchoices[\u001b[38;5;241m0\u001b[39m]\u001b[38;5;241m.\u001b[39mmessage[\u001b[38;5;124m\"\u001b[39m\u001b[38;5;124mcontent\u001b[39m\u001b[38;5;124m\"\u001b[39m]\n",
      "File \u001b[1;32m~\\anaconda3\\lib\\site-packages\\openai\\api_resources\\chat_completion.py:25\u001b[0m, in \u001b[0;36mChatCompletion.create\u001b[1;34m(cls, *args, **kwargs)\u001b[0m\n\u001b[0;32m     23\u001b[0m \u001b[38;5;28;01mwhile\u001b[39;00m \u001b[38;5;28;01mTrue\u001b[39;00m:\n\u001b[0;32m     24\u001b[0m     \u001b[38;5;28;01mtry\u001b[39;00m:\n\u001b[1;32m---> 25\u001b[0m         \u001b[38;5;28;01mreturn\u001b[39;00m \u001b[38;5;28msuper\u001b[39m()\u001b[38;5;241m.\u001b[39mcreate(\u001b[38;5;241m*\u001b[39margs, \u001b[38;5;241m*\u001b[39m\u001b[38;5;241m*\u001b[39mkwargs)\n\u001b[0;32m     26\u001b[0m     \u001b[38;5;28;01mexcept\u001b[39;00m TryAgain \u001b[38;5;28;01mas\u001b[39;00m e:\n\u001b[0;32m     27\u001b[0m         \u001b[38;5;28;01mif\u001b[39;00m timeout \u001b[38;5;129;01mis\u001b[39;00m \u001b[38;5;129;01mnot\u001b[39;00m \u001b[38;5;28;01mNone\u001b[39;00m \u001b[38;5;129;01mand\u001b[39;00m time\u001b[38;5;241m.\u001b[39mtime() \u001b[38;5;241m>\u001b[39m start \u001b[38;5;241m+\u001b[39m timeout:\n",
      "File \u001b[1;32m~\\anaconda3\\lib\\site-packages\\openai\\api_resources\\abstract\\engine_api_resource.py:153\u001b[0m, in \u001b[0;36mEngineAPIResource.create\u001b[1;34m(cls, api_key, api_base, api_type, request_id, api_version, organization, **params)\u001b[0m\n\u001b[0;32m    127\u001b[0m \u001b[38;5;129m@classmethod\u001b[39m\n\u001b[0;32m    128\u001b[0m \u001b[38;5;28;01mdef\u001b[39;00m \u001b[38;5;21mcreate\u001b[39m(\n\u001b[0;32m    129\u001b[0m     \u001b[38;5;28mcls\u001b[39m,\n\u001b[1;32m   (...)\u001b[0m\n\u001b[0;32m    136\u001b[0m     \u001b[38;5;241m*\u001b[39m\u001b[38;5;241m*\u001b[39mparams,\n\u001b[0;32m    137\u001b[0m ):\n\u001b[0;32m    138\u001b[0m     (\n\u001b[0;32m    139\u001b[0m         deployment_id,\n\u001b[0;32m    140\u001b[0m         engine,\n\u001b[1;32m   (...)\u001b[0m\n\u001b[0;32m    150\u001b[0m         api_key, api_base, api_type, api_version, organization, \u001b[38;5;241m*\u001b[39m\u001b[38;5;241m*\u001b[39mparams\n\u001b[0;32m    151\u001b[0m     )\n\u001b[1;32m--> 153\u001b[0m     response, _, api_key \u001b[38;5;241m=\u001b[39m \u001b[43mrequestor\u001b[49m\u001b[38;5;241;43m.\u001b[39;49m\u001b[43mrequest\u001b[49m\u001b[43m(\u001b[49m\n\u001b[0;32m    154\u001b[0m \u001b[43m        \u001b[49m\u001b[38;5;124;43m\"\u001b[39;49m\u001b[38;5;124;43mpost\u001b[39;49m\u001b[38;5;124;43m\"\u001b[39;49m\u001b[43m,\u001b[49m\n\u001b[0;32m    155\u001b[0m \u001b[43m        \u001b[49m\u001b[43murl\u001b[49m\u001b[43m,\u001b[49m\n\u001b[0;32m    156\u001b[0m \u001b[43m        \u001b[49m\u001b[43mparams\u001b[49m\u001b[38;5;241;43m=\u001b[39;49m\u001b[43mparams\u001b[49m\u001b[43m,\u001b[49m\n\u001b[0;32m    157\u001b[0m \u001b[43m        \u001b[49m\u001b[43mheaders\u001b[49m\u001b[38;5;241;43m=\u001b[39;49m\u001b[43mheaders\u001b[49m\u001b[43m,\u001b[49m\n\u001b[0;32m    158\u001b[0m \u001b[43m        \u001b[49m\u001b[43mstream\u001b[49m\u001b[38;5;241;43m=\u001b[39;49m\u001b[43mstream\u001b[49m\u001b[43m,\u001b[49m\n\u001b[0;32m    159\u001b[0m \u001b[43m        \u001b[49m\u001b[43mrequest_id\u001b[49m\u001b[38;5;241;43m=\u001b[39;49m\u001b[43mrequest_id\u001b[49m\u001b[43m,\u001b[49m\n\u001b[0;32m    160\u001b[0m \u001b[43m        \u001b[49m\u001b[43mrequest_timeout\u001b[49m\u001b[38;5;241;43m=\u001b[39;49m\u001b[43mrequest_timeout\u001b[49m\u001b[43m,\u001b[49m\n\u001b[0;32m    161\u001b[0m \u001b[43m    \u001b[49m\u001b[43m)\u001b[49m\n\u001b[0;32m    163\u001b[0m     \u001b[38;5;28;01mif\u001b[39;00m stream:\n\u001b[0;32m    164\u001b[0m         \u001b[38;5;66;03m# must be an iterator\u001b[39;00m\n\u001b[0;32m    165\u001b[0m         \u001b[38;5;28;01massert\u001b[39;00m \u001b[38;5;129;01mnot\u001b[39;00m \u001b[38;5;28misinstance\u001b[39m(response, OpenAIResponse)\n",
      "File \u001b[1;32m~\\anaconda3\\lib\\site-packages\\openai\\api_requestor.py:298\u001b[0m, in \u001b[0;36mAPIRequestor.request\u001b[1;34m(self, method, url, params, headers, files, stream, request_id, request_timeout)\u001b[0m\n\u001b[0;32m    277\u001b[0m \u001b[38;5;28;01mdef\u001b[39;00m \u001b[38;5;21mrequest\u001b[39m(\n\u001b[0;32m    278\u001b[0m     \u001b[38;5;28mself\u001b[39m,\n\u001b[0;32m    279\u001b[0m     method,\n\u001b[1;32m   (...)\u001b[0m\n\u001b[0;32m    286\u001b[0m     request_timeout: Optional[Union[\u001b[38;5;28mfloat\u001b[39m, Tuple[\u001b[38;5;28mfloat\u001b[39m, \u001b[38;5;28mfloat\u001b[39m]]] \u001b[38;5;241m=\u001b[39m \u001b[38;5;28;01mNone\u001b[39;00m,\n\u001b[0;32m    287\u001b[0m ) \u001b[38;5;241m-\u001b[39m\u001b[38;5;241m>\u001b[39m Tuple[Union[OpenAIResponse, Iterator[OpenAIResponse]], \u001b[38;5;28mbool\u001b[39m, \u001b[38;5;28mstr\u001b[39m]:\n\u001b[0;32m    288\u001b[0m     result \u001b[38;5;241m=\u001b[39m \u001b[38;5;28mself\u001b[39m\u001b[38;5;241m.\u001b[39mrequest_raw(\n\u001b[0;32m    289\u001b[0m         method\u001b[38;5;241m.\u001b[39mlower(),\n\u001b[0;32m    290\u001b[0m         url,\n\u001b[1;32m   (...)\u001b[0m\n\u001b[0;32m    296\u001b[0m         request_timeout\u001b[38;5;241m=\u001b[39mrequest_timeout,\n\u001b[0;32m    297\u001b[0m     )\n\u001b[1;32m--> 298\u001b[0m     resp, got_stream \u001b[38;5;241m=\u001b[39m \u001b[38;5;28;43mself\u001b[39;49m\u001b[38;5;241;43m.\u001b[39;49m\u001b[43m_interpret_response\u001b[49m\u001b[43m(\u001b[49m\u001b[43mresult\u001b[49m\u001b[43m,\u001b[49m\u001b[43m \u001b[49m\u001b[43mstream\u001b[49m\u001b[43m)\u001b[49m\n\u001b[0;32m    299\u001b[0m     \u001b[38;5;28;01mreturn\u001b[39;00m resp, got_stream, \u001b[38;5;28mself\u001b[39m\u001b[38;5;241m.\u001b[39mapi_key\n",
      "File \u001b[1;32m~\\anaconda3\\lib\\site-packages\\openai\\api_requestor.py:700\u001b[0m, in \u001b[0;36mAPIRequestor._interpret_response\u001b[1;34m(self, result, stream)\u001b[0m\n\u001b[0;32m    692\u001b[0m     \u001b[38;5;28;01mreturn\u001b[39;00m (\n\u001b[0;32m    693\u001b[0m         \u001b[38;5;28mself\u001b[39m\u001b[38;5;241m.\u001b[39m_interpret_response_line(\n\u001b[0;32m    694\u001b[0m             line, result\u001b[38;5;241m.\u001b[39mstatus_code, result\u001b[38;5;241m.\u001b[39mheaders, stream\u001b[38;5;241m=\u001b[39m\u001b[38;5;28;01mTrue\u001b[39;00m\n\u001b[0;32m    695\u001b[0m         )\n\u001b[0;32m    696\u001b[0m         \u001b[38;5;28;01mfor\u001b[39;00m line \u001b[38;5;129;01min\u001b[39;00m parse_stream(result\u001b[38;5;241m.\u001b[39miter_lines())\n\u001b[0;32m    697\u001b[0m     ), \u001b[38;5;28;01mTrue\u001b[39;00m\n\u001b[0;32m    698\u001b[0m \u001b[38;5;28;01melse\u001b[39;00m:\n\u001b[0;32m    699\u001b[0m     \u001b[38;5;28;01mreturn\u001b[39;00m (\n\u001b[1;32m--> 700\u001b[0m         \u001b[38;5;28;43mself\u001b[39;49m\u001b[38;5;241;43m.\u001b[39;49m\u001b[43m_interpret_response_line\u001b[49m\u001b[43m(\u001b[49m\n\u001b[0;32m    701\u001b[0m \u001b[43m            \u001b[49m\u001b[43mresult\u001b[49m\u001b[38;5;241;43m.\u001b[39;49m\u001b[43mcontent\u001b[49m\u001b[38;5;241;43m.\u001b[39;49m\u001b[43mdecode\u001b[49m\u001b[43m(\u001b[49m\u001b[38;5;124;43m\"\u001b[39;49m\u001b[38;5;124;43mutf-8\u001b[39;49m\u001b[38;5;124;43m\"\u001b[39;49m\u001b[43m)\u001b[49m\u001b[43m,\u001b[49m\n\u001b[0;32m    702\u001b[0m \u001b[43m            \u001b[49m\u001b[43mresult\u001b[49m\u001b[38;5;241;43m.\u001b[39;49m\u001b[43mstatus_code\u001b[49m\u001b[43m,\u001b[49m\n\u001b[0;32m    703\u001b[0m \u001b[43m            \u001b[49m\u001b[43mresult\u001b[49m\u001b[38;5;241;43m.\u001b[39;49m\u001b[43mheaders\u001b[49m\u001b[43m,\u001b[49m\n\u001b[0;32m    704\u001b[0m \u001b[43m            \u001b[49m\u001b[43mstream\u001b[49m\u001b[38;5;241;43m=\u001b[39;49m\u001b[38;5;28;43;01mFalse\u001b[39;49;00m\u001b[43m,\u001b[49m\n\u001b[0;32m    705\u001b[0m \u001b[43m        \u001b[49m\u001b[43m)\u001b[49m,\n\u001b[0;32m    706\u001b[0m         \u001b[38;5;28;01mFalse\u001b[39;00m,\n\u001b[0;32m    707\u001b[0m     )\n",
      "File \u001b[1;32m~\\anaconda3\\lib\\site-packages\\openai\\api_requestor.py:757\u001b[0m, in \u001b[0;36mAPIRequestor._interpret_response_line\u001b[1;34m(self, rbody, rcode, rheaders, stream)\u001b[0m\n\u001b[0;32m    755\u001b[0m         data \u001b[38;5;241m=\u001b[39m json\u001b[38;5;241m.\u001b[39mloads(rbody)\n\u001b[0;32m    756\u001b[0m \u001b[38;5;28;01mexcept\u001b[39;00m (JSONDecodeError, \u001b[38;5;167;01mUnicodeDecodeError\u001b[39;00m) \u001b[38;5;28;01mas\u001b[39;00m e:\n\u001b[1;32m--> 757\u001b[0m     \u001b[38;5;28;01mraise\u001b[39;00m error\u001b[38;5;241m.\u001b[39mAPIError(\n\u001b[0;32m    758\u001b[0m         \u001b[38;5;124mf\u001b[39m\u001b[38;5;124m\"\u001b[39m\u001b[38;5;124mHTTP code \u001b[39m\u001b[38;5;132;01m{\u001b[39;00mrcode\u001b[38;5;132;01m}\u001b[39;00m\u001b[38;5;124m from API (\u001b[39m\u001b[38;5;132;01m{\u001b[39;00mrbody\u001b[38;5;132;01m}\u001b[39;00m\u001b[38;5;124m)\u001b[39m\u001b[38;5;124m\"\u001b[39m, rbody, rcode, headers\u001b[38;5;241m=\u001b[39mrheaders\n\u001b[0;32m    759\u001b[0m     ) \u001b[38;5;28;01mfrom\u001b[39;00m \u001b[38;5;21;01me\u001b[39;00m\n\u001b[0;32m    760\u001b[0m resp \u001b[38;5;241m=\u001b[39m OpenAIResponse(data, rheaders)\n\u001b[0;32m    761\u001b[0m \u001b[38;5;66;03m# In the future, we might add a \"status\" parameter to errors\u001b[39;00m\n\u001b[0;32m    762\u001b[0m \u001b[38;5;66;03m# to better handle the \"error while streaming\" case.\u001b[39;00m\n",
      "\u001b[1;31mAPIError\u001b[0m: HTTP code 502 from API (<html>\r\n<head><title>502 Bad Gateway</title></head>\r\n<body>\r\n<center><h1>502 Bad Gateway</h1></center>\r\n<hr><center>cloudflare</center>\r\n</body>\r\n</html>\r\n)"
     ]
    }
   ],
   "source": [
    "for item in tqdm(data):\n",
    "#     print(f\"Predicting {i}\")\n",
    "    \n",
    "    news = item['abstractive']\n",
    "    #print(news)\n",
    "    \n",
    "    evidence_list = []\n",
    "    if type(item['evidence'])==str:\n",
    "        evidence_list.append(item['evidence'])\n",
    "    else:\n",
    "        evidence_list.extend(item['evidence'])\n",
    "#     print(f\"evidence list: {evidence_list}\")\n",
    "    \n",
    "    evidence = [it['abstract'] for it in evidence_data if it['cord_uid'] in evidence_list]\n",
    "#     if evidence:\n",
    "#         evidence = evidence[0]\n",
    "#     else:\n",
    "#         evidence = \"\"\n",
    "    evidence = ''.join(evidence)\n",
    "    \n",
    "    user_message = f\"\"\"\n",
    "     Here is one news paragraph {delimiter_1}{news} and relevant evidence {delimiter_2}{evidence}. \n",
    "     Determine if the evidence supports or refutes the news point of view. \n",
    "     Make a final prediction of 'True' if the news paragraph is factually true or 'False' if it is false based on the evidence under the keyword: 'prediction'. \n",
    "     Provide a comprehensive explanation for your prediction based on the defined axes of scientific validity under the keyword: 'reason'. \n",
    "     Then, score the news article based on each axis of scientific validity between [-1, 1] under the keyword: 'scores'. \n",
    "     For scoring, assign a float value in the range -1 and 1 to each axis, where -1 indicates strong disagreement, 0 indicates neutrality, and 1 indicates strong agreement.\n",
    "     Provide the final output in JSON format containing the following three keys: prediction, reason, and scores.\n",
    "    \"\"\"\n",
    "    \n",
    "    assistant_message = \"\"\"\n",
    "    As a Fact Checker, carefully analyze the evidence abstracts and provide the result.\n",
    "    Reference specific phrases or sentences from both the news story and the evidence to support your prediction.\n",
    "    \"\"\"\n",
    "        \n",
    "    messages =  [ {'role':'system', 'content': system_message},    \n",
    "                  {'role':'user', 'content': user_message},  \n",
    "                  {'role': 'assistant', 'content': assistant_message}]    \n",
    "    \n",
    "    response = get_completion_from_messages(messages)\n",
    "#     print(response)\n",
    "    \n",
    "    result = dict()\n",
    "    result['news'] = news\n",
    "    result['evidence list'] = evidence_list\n",
    "    result['ground truth'] = item['label']\n",
    "    \n",
    "    try:\n",
    "        result.update(json.loads(response))\n",
    "        \n",
    "    except JSONDecodeError as e:\n",
    "        pattern1 = r'\"prediction\": \"(.*?)\",\\s*\"reason\": \"(.*?)\",\\s*\"scores\": \"(.*?)\"'\n",
    "        pattern2 = r\"Prediction:\\s*(True|False)\\nReason:\\s*(.*)\\nReason:\\s*(.*)\"\n",
    "        match1 = re.search(pattern1, response)\n",
    "        match2 = re.search(pattern2, response)\n",
    "\n",
    "        if match1:\n",
    "            result['prediction'] = match1.group(1)\n",
    "            result['reason'] = match1.group(2)\n",
    "            result['scores'] = match1.group(3)\n",
    "        \n",
    "        elif match2:\n",
    "            result['prediction'] = match2.group(1)\n",
    "            result['reason'] = match2.group(2)\n",
    "            result['scores'] = match1.group(3)\n",
    "        \n",
    "        else:\n",
    "            pattern_prediction1 = r'##prediction\\n(.*?)\\n\\n##reason'\n",
    "            pattern_reason1 = r'##reason\\n(.*?)\\n\\n##scores'\n",
    "            pattern_scores1 = r'##scores\\n(.*?)$'\n",
    "            \n",
    "            prediction_match = re.search(pattern_prediction1, response, re.DOTALL)\n",
    "            reason_match = re.search(pattern_reason1, response, re.DOTALL)\n",
    "            scores_match = re.search(pattern_scores1, response, re.DOTALL)\n",
    "\n",
    "            # Extracting information\n",
    "            if prediction_match and reason_match and scores_match:\n",
    "                result['prediction'] = re.search(pattern_prediction1, response, re.DOTALL).group(1).strip()\n",
    "                result['reason'] = re.search(pattern_reason1, response, re.DOTALL).group(1).strip()\n",
    "                result['scores'] = re.search(pattern_scores1, response, re.DOTALL).group(1).strip()\n",
    "\n",
    "            else:\n",
    "                prediction_pattern = r'##prediction##\\n(.*?)\\n\\n'\n",
    "                reason_pattern = r'##reason##\\n(.*?)\\n\\n'\n",
    "                scores_pattern = r'##scores##\\n(.*?)$'\n",
    "\n",
    "                prediction_match = re.search(prediction_pattern, response, re.DOTALL)\n",
    "                reason_match = re.search(reason_pattern, response, re.DOTALL)\n",
    "                scores_match = re.search(scores_pattern, response, re.DOTALL)\n",
    "\n",
    "                if prediction_match and reason_match and scores_match:\n",
    "                    result['prediction'] = prediction_match.group(1)\n",
    "                    result['reason'] = reason_match.group(1)\n",
    "                    result['scores'] = scores_match.group(1)\n",
    "                    \n",
    "                    \n",
    "    generated_result.append(result)\n",
    "    all_resp.append(response)\n",
    "    \n",
    "    time.sleep(2)\n",
    "    i += 1\n",
    "    \n",
    "#     break"
   ]
  },
  {
   "cell_type": "code",
   "execution_count": 19,
   "id": "34c91e23",
   "metadata": {},
   "outputs": [
    {
     "data": {
      "text/plain": [
       "5"
      ]
     },
     "execution_count": 19,
     "metadata": {},
     "output_type": "execute_result"
    }
   ],
   "source": [
    "i"
   ]
  },
  {
   "cell_type": "code",
   "execution_count": 20,
   "id": "7af19735",
   "metadata": {},
   "outputs": [
    {
     "data": {
      "text/plain": [
       "5"
      ]
     },
     "execution_count": 20,
     "metadata": {},
     "output_type": "execute_result"
    }
   ],
   "source": [
    "len(generated_result)"
   ]
  },
  {
   "cell_type": "code",
   "execution_count": 21,
   "id": "ab8bddfe",
   "metadata": {},
   "outputs": [
    {
     "data": {
      "text/plain": [
       "{'news': 'The U.S. Food and Drug Administration (FDA) has changed its guidelines for COVID-19 vaccination, now only requiring one mRNA injection and no additional boosters. This change comes after over 230 million Americans have already received at least two doses of the vaccine. The FDA claims that the new \"bivalent\" injections are sufficient and work better against the Omicron variant, despite a lack of evidence. Individuals who have already received more than one dose may not be eligible for further booster shots. Government official Tony Fauci has also advised Americans to skip the second COVID-19 jab dose. These changes come as demand for mRNA injections has decreased and more people are becoming aware of the potential risks.',\n",
       " 'evidence list': ['yhun6hid', '3rxtk8as', '4exns0xv'],\n",
       " 'ground truth': 0}"
      ]
     },
     "execution_count": 21,
     "metadata": {},
     "output_type": "execute_result"
    }
   ],
   "source": [
    "result"
   ]
  },
  {
   "cell_type": "code",
   "execution_count": 14,
   "id": "29327337",
   "metadata": {},
   "outputs": [],
   "source": [
    "result['prediction'] = 'False'\n",
    "result['reason'] = \"The news paragraph is factually false based on the evidence provided. Here is a step-by-step analysis:\\n\\n1. Initial Analysis: The central claim of the news paragraph is that singer Celine Dion developed Stiff Person Syndrome (SPS) as a rare adverse effect of COVID-19 vaccination.\\n\\n2. Alignment Check: The evidence provided does not mention anything about Celine Dion or Stiff Person Syndrome. There is no alignment between the news paragraph and the evidence.\\n\\n3. Causation Assessment: The news paragraph suggests a causal link between the Pfizer mRNA vaccine and SPS, but there is no evidence provided to support this claim. It is important to note that correlation does not imply causation.\\n\\n4. Accuracy Verification: The news paragraph claims that Pfizer was aware of the link between their vaccine and SPS in early 2021, but there is no evidence provided to support this claim. The evidence only discusses adverse events following COVID-19 immunization without mentioning SPS.\\n\\n5. Precision Check: The news paragraph overgeneralizes by stating that SPS is a side effect of Pfizer's mRNA vaccine without providing specific evidence to support this claim.\\n\\n6\""
   ]
  },
  {
   "cell_type": "code",
   "execution_count": 32,
   "id": "1c80052d",
   "metadata": {},
   "outputs": [],
   "source": [
    "prediction_start = response.find('\"prediction\": \"') + len('\"prediction\": \"')\n",
    "prediction_end = response.find('\"', prediction_start)\n",
    "reason_start = response.find('\"reason\": \"') + len('\"reason\": \"')\n",
    "reason_end = response.find('\"', reason_start)\n",
    "\n",
    "# Extract the prediction and reason values\n",
    "prediction = response[prediction_start:prediction_end]\n",
    "reason = response[reason_start:reason_end]"
   ]
  },
  {
   "cell_type": "code",
   "execution_count": 34,
   "id": "515ad276",
   "metadata": {},
   "outputs": [
    {
     "data": {
      "text/plain": [
       "'False'"
      ]
     },
     "execution_count": 34,
     "metadata": {},
     "output_type": "execute_result"
    }
   ],
   "source": [
    "prediction"
   ]
  },
  {
   "cell_type": "code",
   "execution_count": 39,
   "id": "d35b4474",
   "metadata": {},
   "outputs": [
    {
     "data": {
      "text/plain": [
       "{'news': \"Singer Celine Dion has reportedly developed Stiff Person Syndrome (SPS), a rare adverse effect of COVID-19 vaccination. SPS, characterized by rigidity and muscle spasms, is listed as a side effect of Pfizer's mRNA vaccine. Pfizer was aware of the link between their vaccine and SPS in early 2021, but the FDA did not disclose this information to the public. Data from the Vaccine Adverse Event Reporting System (VAERS) suggests a 99.6% chance that SPS is a direct result of COVID-19 vaccination. Dion's existing health issues may have made her more susceptible to developing SPS. The timing of her symptoms could indicate a direct adverse effect of the vaccine. These findings raise concerns about the safety of COVID-19 vaccines.\",\n",
       " 'evidence list': ['znt1jdgx', 'gljvjske', 'gaesasxq'],\n",
       " 'ground truth': 0,\n",
       " 'prediction': 'False',\n",
       " 'reason': \"The news paragraph is factually false based on the evidence provided. Here is a step-by-step analysis:\\\\n\\\\n1. Initial Analysis: The central claim of the news paragraph is that singer Celine Dion developed Stiff Person Syndrome (SPS) as a rare adverse effect of COVID-19 vaccination.\\\\n\\\\n2. Alignment Check: The evidence provided does not mention anything about Celine Dion or Stiff Person Syndrome. There is no alignment between the news paragraph and the evidence.\\\\n\\\\n3. Causation Assessment: The news paragraph suggests a causal link between the Pfizer mRNA vaccine and SPS, but there is no evidence provided to support this claim. The evidence only discusses adverse events following COVID-19 immunization in general, without mentioning SPS.\\\\n\\\\n4. Accuracy Verification: The news paragraph claims that Pfizer was aware of the link between their vaccine and SPS in early 2021, but there is no evidence provided to support this claim. The evidence only discusses adverse events following COVID-19 immunization in general.\\\\n\\\\n5. Precision Check: The news paragraph overgeneralizes by stating that SPS is a side effect of Pfizer's mRNA vaccine, without providing any evidence to suppor\"}"
      ]
     },
     "execution_count": 39,
     "metadata": {},
     "output_type": "execute_result"
    }
   ],
   "source": [
    "generated_result[-1]"
   ]
  },
  {
   "cell_type": "code",
   "execution_count": 13,
   "id": "6ece8558",
   "metadata": {},
   "outputs": [],
   "source": [
    "# generated_result\n",
    "# for item in data:\n",
    "# #     print(item['abstractive'])\n",
    "#     print(item)\n",
    "#     break"
   ]
  },
  {
   "cell_type": "code",
   "execution_count": 14,
   "id": "848a2683-7ce2-4fc6-a9ed-d3e37739ad84",
   "metadata": {},
   "outputs": [],
   "source": [
    "# data[537]['prediction'] = \"refute\"\n",
    "# data[537]['reason'] = \"The relevant sentences refute the point of view presented in the news paragraph. The news paragraph claims that there is evidence that cancers are occurring in ways never before seen after people receive COVID-19 vaccinations, and that the Covid-19 vaccine has compromised immune systems by disabling the body's ability to fight non-normal cancerous cells. However, none of the relevant sentences mention anything about cancers occurring in new ways or the Covid-19 vaccine compromising immune systems. Instead, the relevant sentences discuss formalisation in Isabelle/HOL, wider array of vascular phenomena related to Covid vaccinations, and the belief that a healthy immune system can fight and disable cancerous cells. These sentences do not provide any supporting evidence for the claims made in the news paragraph, and therefore refute its point of view.\""
   ]
  },
  {
   "cell_type": "code",
   "execution_count": null,
   "id": "e35468c4-1f59-42fb-916a-ad001a1d7ee8",
   "metadata": {},
   "outputs": [],
   "source": []
  },
  {
   "cell_type": "code",
   "execution_count": 15,
   "id": "ee3f98c6-f456-41e1-bb35-75e9be087a54",
   "metadata": {},
   "outputs": [],
   "source": [
    "with open('explanation_cot_prediction_GPT35_human.json', 'w') as file:\n",
    "    json.dump(generated_result, file)"
   ]
  },
  {
   "cell_type": "code",
   "execution_count": 26,
   "id": "56d3a0f9-d29a-432c-8c3b-a3de17267e9e",
   "metadata": {},
   "outputs": [],
   "source": [
    "# data[515]"
   ]
  },
  {
   "cell_type": "code",
   "execution_count": 76,
   "id": "514b2f6c-4247-4c52-b30b-6d7b63235a35",
   "metadata": {},
   "outputs": [],
   "source": [
    "j = 0\n",
    "for i in generated_result:\n",
    "    if 'prediction' not in i.keys():\n",
    "        print(j)\n",
    "        print(i,end='\\n\\n\\n')\n",
    "    j += 1\n",
    "#     break"
   ]
  },
  {
   "cell_type": "code",
   "execution_count": 75,
   "id": "05ad74ad",
   "metadata": {},
   "outputs": [
    {
     "data": {
      "text/plain": [
       "dict_keys(['news', 'evidence list', 'ground truth', 'prediction', 'reason'])"
      ]
     },
     "execution_count": 75,
     "metadata": {},
     "output_type": "execute_result"
    }
   ],
   "source": [
    "generated_result[121].keys()"
   ]
  },
  {
   "cell_type": "code",
   "execution_count": 23,
   "id": "7d180d60",
   "metadata": {},
   "outputs": [
    {
     "data": {
      "text/plain": [
       "{'news': \"Singer Celine Dion has reportedly developed Stiff Person Syndrome (SPS), a rare adverse effect of COVID-19 vaccination. SPS, characterized by rigidity and muscle spasms, is listed as a side effect of Pfizer's mRNA vaccine. Pfizer was aware of the link between their vaccine and SPS in early 2021, but the FDA did not disclose this information to the public. Data from the Vaccine Adverse Event Reporting System (VAERS) suggests a 99.6% chance that SPS is a direct result of COVID-19 vaccination. Dion's existing health issues may have made her more susceptible to developing SPS. The timing of her symptoms could indicate a direct adverse effect of the vaccine. These findings raise concerns about the safety of COVID-19 vaccines.\",\n",
       " 'evidence list': ['znt1jdgx', 'gljvjske', 'gaesasxq'],\n",
       " 'ground truth': 0}"
      ]
     },
     "execution_count": 23,
     "metadata": {},
     "output_type": "execute_result"
    }
   ],
   "source": [
    "generated_result[134]"
   ]
  },
  {
   "cell_type": "code",
   "execution_count": null,
   "id": "58719888",
   "metadata": {},
   "outputs": [],
   "source": [
    "Predicting 121\n",
    "evidence list: ['jyuby0bt', 'bewzupb6', 'ph3bv7vc']\n",
    "{\n",
    "  \"prediction\": \"False\",\n",
    "  \"reason\": \""
   ]
  },
  {
   "cell_type": "code",
   "execution_count": 73,
   "id": "549f8049",
   "metadata": {},
   "outputs": [],
   "source": [
    "generated_result[121]['prediction'] = 'False'\n",
    "generated_result[121]['reason'] = \"The news paragraph contains several inaccuracies and misinterpretations of the evidence. Firstly, the news paragraph claims that lipid nanoparticles (LNPs) in COVID-19 vaccines are the true pathogen, which is not supported by the evidence. The evidence discusses the use of LNPs as a delivery vehicle for mRNA vaccines, highlighting their role in preventing enzymatic degradation and enhancing the potency of the vaccines. There is no mention of LNPs being the true pathogen or causing disseminated intravascular coagulation (DIC) or immune suppression. Secondly, the news paragraph suggests that the Novavax COVID-19 shot should be avoided due to potential LNP content, but the evidence does not mention Novavax or any specific COVID-19 vaccine. Thirdly, the news paragraph claims that two ingredients in mRNA vaccines, DSPC and DSPE, have been patented to bypass the blood-brain barrier, but the evidence does not support this claim. The evidence discusses the surface modification of LNPs with mannans to enhance antibody response, but there is no mention of bypassing the blood-brain barrier. Fourthly, the news paragraph disputes the safety of COVID-19 shots for pregnant women based on the presence of mRNA and\""
   ]
  },
  {
   "cell_type": "code",
   "execution_count": null,
   "id": "78d521fe",
   "metadata": {},
   "outputs": [],
   "source": []
  },
  {
   "cell_type": "code",
   "execution_count": 54,
   "id": "8d10a9da",
   "metadata": {},
   "outputs": [
    {
     "name": "stdout",
     "output_type": "stream",
     "text": [
      "The CDC has confirmed that by October 2022, 58,000 children in the USA were injured, 15,000 were hospitalized, 1,201 were left disabled, and 163 tragically died due to COVID-19 vaccination. The CDC's Advisory Committee voted in favor of adding the COVID-19 vaccine to the recommended immunization schedule for children aged 6 months and over. However, it is unclear if the committee was aware of these figures before making their decision. The CDC's Vaccine Adverse Event Reporting System (VAERS) reveals that the Pfizer, Moderna, and Janssen vaccines have caused injuries and hospitalizations among children. The CDC estimates that only 1 to 10% of adverse events are reported to VAERS, so the true consequences of COVID-19 vaccination among children may be higher. The article also appeals for support to continue bringing uncensored news and investigative journalism.\n"
     ]
    }
   ],
   "source": [
    "for item in data[916:]:\n",
    "    print(item['abstractive'])\n",
    "#     print(item['evidence'])\n",
    "#     print(item['value'])\n",
    "    break"
   ]
  }
 ],
 "metadata": {
  "kernelspec": {
   "display_name": "Python 3 (ipykernel)",
   "language": "python",
   "name": "python3"
  },
  "language_info": {
   "codemirror_mode": {
    "name": "ipython",
    "version": 3
   },
   "file_extension": ".py",
   "mimetype": "text/x-python",
   "name": "python",
   "nbconvert_exporter": "python",
   "pygments_lexer": "ipython3",
   "version": "3.9.12"
  }
 },
 "nbformat": 4,
 "nbformat_minor": 5
}
